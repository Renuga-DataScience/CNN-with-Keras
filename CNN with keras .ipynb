{
 "cells": [
  {
   "cell_type": "markdown",
   "metadata": {},
   "source": [
    "# Building CNN with Keras"
   ]
  },
  {
   "cell_type": "markdown",
   "metadata": {},
   "source": [
    "### Import required packages"
   ]
  },
  {
   "cell_type": "code",
   "execution_count": 1,
   "metadata": {},
   "outputs": [
    {
     "name": "stderr",
     "output_type": "stream",
     "text": [
      "Using TensorFlow backend.\n"
     ]
    }
   ],
   "source": [
    "import numpy as np\n",
    "import keras\n",
    "from keras.datasets import mnist\n",
    "from keras.models import Sequential\n",
    "from keras.layers import Dense, Dropout, Flatten, Conv2D, MaxPooling2D\n",
    "from keras import backend as K\n",
    "from keras.preprocessing import image\n",
    "from keras.applications.mobilenet import MobileNet\n",
    "from keras.applications.vgg16 import preprocess_input, decode_predictions\n",
    "from keras.models import Model\n",
    "import timeit\n",
    "import warnings\n",
    "warnings.filterwarnings('ignore')\n"
   ]
  },
  {
   "cell_type": "markdown",
   "metadata": {},
   "source": [
    "### Preprocessing Dataset"
   ]
  },
  {
   "cell_type": "code",
   "execution_count": 2,
   "metadata": {},
   "outputs": [
    {
     "name": "stdout",
     "output_type": "stream",
     "text": [
      "x_train shape: (60000, 28, 28, 1)\n",
      "60000 train samples\n",
      "10000 test samples\n"
     ]
    }
   ],
   "source": [
    "batch_size = 128\n",
    "num_classes = 10\n",
    "epochs = 1\n",
    "\n",
    "# input image dimensions\n",
    "img_rows, img_cols = 28, 28\n",
    "\n",
    "# the data, shuffled and split between train and test sets\n",
    "(x_train, y_train), (x_test, y_test) = mnist.load_data()\n",
    "\n",
    "if K.image_data_format() == 'channels_first':\n",
    "    x_train = x_train.reshape(x_train.shape[0], 1, img_rows, img_cols)\n",
    "    x_test = x_test.reshape(x_test.shape[0], 1, img_rows, img_cols)\n",
    "    input_shape = (1, img_rows, img_cols)\n",
    "    \n",
    "else:\n",
    "    x_train = x_train.reshape(x_train.shape[0], img_rows, img_cols, 1)\n",
    "    x_test = x_test.reshape(x_test.shape[0], img_rows, img_cols, 1)\n",
    "    input_shape = (img_rows, img_cols, 1)\n",
    "    \n",
    "x_train = x_train.astype('float32')\n",
    "x_test = x_test.astype('float32')\n",
    "x_train /=255\n",
    "x_test /=255\n",
    "\n",
    "print('x_train shape:', x_train.shape)\n",
    "print(x_train.shape[0], 'train samples')\n",
    "print(x_test.shape[0], 'test samples')\n",
    "\n",
    "# convert class vectors to binary class matrices\n",
    "y_train = keras.utils.to_categorical(y_train, num_classes)\n",
    "y_test = keras.utils.to_categorical(y_test, num_classes)"
   ]
  },
  {
   "cell_type": "markdown",
   "metadata": {},
   "source": [
    "### Building a Model"
   ]
  },
  {
   "cell_type": "code",
   "execution_count": 3,
   "metadata": {},
   "outputs": [
    {
     "name": "stdout",
     "output_type": "stream",
     "text": [
      "Model: \"sequential_1\"\n",
      "_________________________________________________________________\n",
      "Layer (type)                 Output Shape              Param #   \n",
      "=================================================================\n",
      "conv2d_1 (Conv2D)            (None, 26, 26, 8)         80        \n",
      "_________________________________________________________________\n",
      "max_pooling2d_1 (MaxPooling2 (None, 13, 13, 8)         0         \n",
      "_________________________________________________________________\n",
      "conv2d_2 (Conv2D)            (None, 11, 11, 16)        1168      \n",
      "_________________________________________________________________\n",
      "max_pooling2d_2 (MaxPooling2 (None, 5, 5, 16)          0         \n",
      "_________________________________________________________________\n",
      "dropout_1 (Dropout)          (None, 5, 5, 16)          0         \n",
      "_________________________________________________________________\n",
      "flatten_1 (Flatten)          (None, 400)               0         \n",
      "_________________________________________________________________\n",
      "dense_1 (Dense)              (None, 32)                12832     \n",
      "_________________________________________________________________\n",
      "dropout_2 (Dropout)          (None, 32)                0         \n",
      "_________________________________________________________________\n",
      "dense_2 (Dense)              (None, 10)                330       \n",
      "=================================================================\n",
      "Total params: 14,410\n",
      "Trainable params: 14,410\n",
      "Non-trainable params: 0\n",
      "_________________________________________________________________\n"
     ]
    }
   ],
   "source": [
    "model = Sequential()\n",
    "model.add(Conv2D(8, kernel_size=(3, 3), activation='relu', input_shape=input_shape))\n",
    "model.add(MaxPooling2D(pool_size=(2, 2)))\n",
    "model.add(Conv2D(16, (3, 3), activation='relu'))\n",
    "model.add(MaxPooling2D(pool_size=(2, 2)))\n",
    "model.add(Dropout(0.25))\n",
    "model.add(Flatten())\n",
    "model.add(Dense(32, activation='relu'))\n",
    "model.add(Dropout(0.5))\n",
    "model.add(Dense(num_classes, activation='softmax'))\n",
    "model.summary()"
   ]
  },
  {
   "cell_type": "markdown",
   "metadata": {},
   "source": [
    "### Training a Model"
   ]
  },
  {
   "cell_type": "code",
   "execution_count": 4,
   "metadata": {},
   "outputs": [
    {
     "name": "stdout",
     "output_type": "stream",
     "text": [
      "Train on 60000 samples, validate on 10000 samples\n",
      "Epoch 1/1\n",
      "60000/60000 [==============================] - 21s 348us/step - loss: 0.7005 - accuracy: 0.7671 - val_loss: 0.1407 - val_accuracy: 0.9604\n"
     ]
    },
    {
     "data": {
      "text/plain": [
       "<keras.callbacks.callbacks.History at 0x1be601b6ec8>"
      ]
     },
     "execution_count": 4,
     "metadata": {},
     "output_type": "execute_result"
    }
   ],
   "source": [
    "model.compile(loss=keras.losses.categorical_crossentropy,\n",
    "              optimizer=keras.optimizers.Adadelta(),\n",
    "              metrics=['accuracy'])\n",
    "\n",
    "model.fit(x_train, y_train,\n",
    "          batch_size=batch_size,\n",
    "          epochs=epochs,\n",
    "          verbose=1,\n",
    "          validation_data=(x_test, y_test))"
   ]
  },
  {
   "cell_type": "markdown",
   "metadata": {},
   "source": [
    "### Testing a Model"
   ]
  },
  {
   "cell_type": "code",
   "execution_count": 5,
   "metadata": {},
   "outputs": [
    {
     "name": "stdout",
     "output_type": "stream",
     "text": [
      "Test Loss: 0.14066663911044597\n",
      "Test Accuracy: 0.9603999853134155\n"
     ]
    }
   ],
   "source": [
    "score = model.evaluate(x_test, y_test, verbose=0)\n",
    "print('Test Loss:', score[0])\n",
    "print('Test Accuracy:', score[1])\n"
   ]
  },
  {
   "cell_type": "markdown",
   "metadata": {},
   "source": [
    "### Model Prediction"
   ]
  },
  {
   "cell_type": "code",
   "execution_count": 6,
   "metadata": {},
   "outputs": [
    {
     "data": {
      "text/plain": [
       "<matplotlib.image.AxesImage at 0x1be6234ef08>"
      ]
     },
     "execution_count": 6,
     "metadata": {},
     "output_type": "execute_result"
    },
    {
     "data": {
      "image/png": "[encoded data removed]",
      "text/plain": [
       "<Figure size 432x288 with 1 Axes>"
      ]
     },
     "metadata": {
      "needs_background": "light"
     },
     "output_type": "display_data"
    }
   ],
   "source": [
    "import matplotlib.pyplot as plt\n",
    "plt.imshow(x_test[134].reshape(28,28), cmap='gray')"
   ]
  },
  {
   "cell_type": "code",
   "execution_count": 7,
   "metadata": {},
   "outputs": [
    {
     "name": "stdout",
     "output_type": "stream",
     "text": [
      "predictioon score: \n",
      ": [3.33455455e-06 1.38009229e-04 4.33060573e-04 8.58729647e-04\n",
      " 1.01089085e-04 1.17586798e-03 5.06392269e-07 1.11820635e-04\n",
      " 9.96132970e-01 1.04460202e-03]\n",
      "\n",
      "Thresholded Score:\n",
      " [0 0 0 0 0 0 0 0 1 0]\n",
      "\n",
      "Predicted Digit:\n",
      " 8\n"
     ]
    }
   ],
   "source": [
    "import numpy as np\n",
    "prediction = model.predict(x_test[134:135])\n",
    "print('predictioon score: \\n:', prediction[0])\n",
    "threshold = (prediction>0.5)*1\n",
    "print('\\nThresholded Score:\\n',threshold[0])\n",
    "print('\\nPredicted Digit:\\n',np.where(threshold == 1)[1][0])"
   ]
  },
  {
   "cell_type": "markdown",
   "metadata": {},
   "source": [
    "### Applications of CNN"
   ]
  },
  {
   "attachments": {
    "image.png": {
     "image/png": "[encoded data removed]"
    }
   },
   "cell_type": "markdown",
   "metadata": {},
   "source": [
    "### Ways to Fine tune the model\n",
    "Feature extraction:\n",
    "We can use a pre-trained model as a feature extraction mechanism. What we can do is that we can remove the output layer( the one which gives the probabilities for being in each of the 1000 classes) and then use the entire network as a fixed feature extractor for the new data set.\n",
    "\n",
    "Use the Architecture of the pre-trained model:\n",
    "What we can do is that we use architecture of the model while we initialize all the weights randomly and train the model according to our dataset again.\n",
    "\n",
    "Train some layers while freeze others:\n",
    "Another way to use a pre-trained model is to train is partially. What we can do is we keep the weights of initial layers of the model frozen while we retrain only the higher layers. We can try and test as to how many layers to be frozen and how many to be trained.\n",
    "\n",
    "The below diagram should help you decide on how to proceed on using the pre trained model in your case\n",
    "\n",
    "![image.png](attachment:image.png)\n",
    "\n"
   ]
  },
  {
   "cell_type": "code",
   "execution_count": 8,
   "metadata": {},
   "outputs": [
    {
     "name": "stdout",
     "output_type": "stream",
     "text": [
      "Model: \"mobilenet_0.25_224\"\n",
      "_________________________________________________________________\n",
      "Layer (type)                 Output Shape              Param #   \n",
      "=================================================================\n",
      "input_1 (InputLayer)         (None, 224, 224, 3)       0         \n",
      "_________________________________________________________________\n",
      "conv1_pad (ZeroPadding2D)    (None, 225, 225, 3)       0         \n",
      "_________________________________________________________________\n",
      "conv1 (Conv2D)               (None, 112, 112, 8)       216       \n",
      "_________________________________________________________________\n",
      "conv1_bn (BatchNormalization (None, 112, 112, 8)       32        \n",
      "_________________________________________________________________\n",
      "conv1_relu (ReLU)            (None, 112, 112, 8)       0         \n",
      "_________________________________________________________________\n",
      "conv_dw_1 (DepthwiseConv2D)  (None, 112, 112, 8)       72        \n",
      "_________________________________________________________________\n",
      "conv_dw_1_bn (BatchNormaliza (None, 112, 112, 8)       32        \n",
      "_________________________________________________________________\n",
      "conv_dw_1_relu (ReLU)        (None, 112, 112, 8)       0         \n",
      "_________________________________________________________________\n",
      "conv_pw_1 (Conv2D)           (None, 112, 112, 16)      128       \n",
      "_________________________________________________________________\n",
      "conv_pw_1_bn (BatchNormaliza (None, 112, 112, 16)      64        \n",
      "_________________________________________________________________\n",
      "conv_pw_1_relu (ReLU)        (None, 112, 112, 16)      0         \n",
      "_________________________________________________________________\n",
      "conv_pad_2 (ZeroPadding2D)   (None, 113, 113, 16)      0         \n",
      "_________________________________________________________________\n",
      "conv_dw_2 (DepthwiseConv2D)  (None, 56, 56, 16)        144       \n",
      "_________________________________________________________________\n",
      "conv_dw_2_bn (BatchNormaliza (None, 56, 56, 16)        64        \n",
      "_________________________________________________________________\n",
      "conv_dw_2_relu (ReLU)        (None, 56, 56, 16)        0         \n",
      "_________________________________________________________________\n",
      "conv_pw_2 (Conv2D)           (None, 56, 56, 32)        512       \n",
      "_________________________________________________________________\n",
      "conv_pw_2_bn (BatchNormaliza (None, 56, 56, 32)        128       \n",
      "_________________________________________________________________\n",
      "conv_pw_2_relu (ReLU)        (None, 56, 56, 32)        0         \n",
      "_________________________________________________________________\n",
      "conv_dw_3 (DepthwiseConv2D)  (None, 56, 56, 32)        288       \n",
      "_________________________________________________________________\n",
      "conv_dw_3_bn (BatchNormaliza (None, 56, 56, 32)        128       \n",
      "_________________________________________________________________\n",
      "conv_dw_3_relu (ReLU)        (None, 56, 56, 32)        0         \n",
      "_________________________________________________________________\n",
      "conv_pw_3 (Conv2D)           (None, 56, 56, 32)        1024      \n",
      "_________________________________________________________________\n",
      "conv_pw_3_bn (BatchNormaliza (None, 56, 56, 32)        128       \n",
      "_________________________________________________________________\n",
      "conv_pw_3_relu (ReLU)        (None, 56, 56, 32)        0         \n",
      "_________________________________________________________________\n",
      "conv_pad_4 (ZeroPadding2D)   (None, 57, 57, 32)        0         \n",
      "_________________________________________________________________\n",
      "conv_dw_4 (DepthwiseConv2D)  (None, 28, 28, 32)        288       \n",
      "_________________________________________________________________\n",
      "conv_dw_4_bn (BatchNormaliza (None, 28, 28, 32)        128       \n",
      "_________________________________________________________________\n",
      "conv_dw_4_relu (ReLU)        (None, 28, 28, 32)        0         \n",
      "_________________________________________________________________\n",
      "conv_pw_4 (Conv2D)           (None, 28, 28, 64)        2048      \n",
      "_________________________________________________________________\n",
      "conv_pw_4_bn (BatchNormaliza (None, 28, 28, 64)        256       \n",
      "_________________________________________________________________\n",
      "conv_pw_4_relu (ReLU)        (None, 28, 28, 64)        0         \n",
      "_________________________________________________________________\n",
      "conv_dw_5 (DepthwiseConv2D)  (None, 28, 28, 64)        576       \n",
      "_________________________________________________________________\n",
      "conv_dw_5_bn (BatchNormaliza (None, 28, 28, 64)        256       \n",
      "_________________________________________________________________\n",
      "conv_dw_5_relu (ReLU)        (None, 28, 28, 64)        0         \n",
      "_________________________________________________________________\n",
      "conv_pw_5 (Conv2D)           (None, 28, 28, 64)        4096      \n",
      "_________________________________________________________________\n",
      "conv_pw_5_bn (BatchNormaliza (None, 28, 28, 64)        256       \n",
      "_________________________________________________________________\n",
      "conv_pw_5_relu (ReLU)        (None, 28, 28, 64)        0         \n",
      "_________________________________________________________________\n",
      "conv_pad_6 (ZeroPadding2D)   (None, 29, 29, 64)        0         \n",
      "_________________________________________________________________\n",
      "conv_dw_6 (DepthwiseConv2D)  (None, 14, 14, 64)        576       \n",
      "_________________________________________________________________\n",
      "conv_dw_6_bn (BatchNormaliza (None, 14, 14, 64)        256       \n",
      "_________________________________________________________________\n",
      "conv_dw_6_relu (ReLU)        (None, 14, 14, 64)        0         \n",
      "_________________________________________________________________\n",
      "conv_pw_6 (Conv2D)           (None, 14, 14, 128)       8192      \n",
      "_________________________________________________________________\n",
      "conv_pw_6_bn (BatchNormaliza (None, 14, 14, 128)       512       \n",
      "_________________________________________________________________\n",
      "conv_pw_6_relu (ReLU)        (None, 14, 14, 128)       0         \n",
      "_________________________________________________________________\n",
      "conv_dw_7 (DepthwiseConv2D)  (None, 14, 14, 128)       1152      \n",
      "_________________________________________________________________\n",
      "conv_dw_7_bn (BatchNormaliza (None, 14, 14, 128)       512       \n",
      "_________________________________________________________________\n",
      "conv_dw_7_relu (ReLU)        (None, 14, 14, 128)       0         \n",
      "_________________________________________________________________\n",
      "conv_pw_7 (Conv2D)           (None, 14, 14, 128)       16384     \n",
      "_________________________________________________________________\n",
      "conv_pw_7_bn (BatchNormaliza (None, 14, 14, 128)       512       \n",
      "_________________________________________________________________\n",
      "conv_pw_7_relu (ReLU)        (None, 14, 14, 128)       0         \n",
      "_________________________________________________________________\n",
      "conv_dw_8 (DepthwiseConv2D)  (None, 14, 14, 128)       1152      \n",
      "_________________________________________________________________\n",
      "conv_dw_8_bn (BatchNormaliza (None, 14, 14, 128)       512       \n",
      "_________________________________________________________________\n",
      "conv_dw_8_relu (ReLU)        (None, 14, 14, 128)       0         \n",
      "_________________________________________________________________\n",
      "conv_pw_8 (Conv2D)           (None, 14, 14, 128)       16384     \n",
      "_________________________________________________________________\n",
      "conv_pw_8_bn (BatchNormaliza (None, 14, 14, 128)       512       \n",
      "_________________________________________________________________\n",
      "conv_pw_8_relu (ReLU)        (None, 14, 14, 128)       0         \n",
      "_________________________________________________________________\n",
      "conv_dw_9 (DepthwiseConv2D)  (None, 14, 14, 128)       1152      \n",
      "_________________________________________________________________\n",
      "conv_dw_9_bn (BatchNormaliza (None, 14, 14, 128)       512       \n",
      "_________________________________________________________________\n",
      "conv_dw_9_relu (ReLU)        (None, 14, 14, 128)       0         \n",
      "_________________________________________________________________\n",
      "conv_pw_9 (Conv2D)           (None, 14, 14, 128)       16384     \n",
      "_________________________________________________________________\n",
      "conv_pw_9_bn (BatchNormaliza (None, 14, 14, 128)       512       \n",
      "_________________________________________________________________\n",
      "conv_pw_9_relu (ReLU)        (None, 14, 14, 128)       0         \n",
      "_________________________________________________________________\n",
      "conv_dw_10 (DepthwiseConv2D) (None, 14, 14, 128)       1152      \n",
      "_________________________________________________________________\n",
      "conv_dw_10_bn (BatchNormaliz (None, 14, 14, 128)       512       \n",
      "_________________________________________________________________\n",
      "conv_dw_10_relu (ReLU)       (None, 14, 14, 128)       0         \n",
      "_________________________________________________________________\n",
      "conv_pw_10 (Conv2D)          (None, 14, 14, 128)       16384     \n",
      "_________________________________________________________________\n",
      "conv_pw_10_bn (BatchNormaliz (None, 14, 14, 128)       512       \n",
      "_________________________________________________________________\n",
      "conv_pw_10_relu (ReLU)       (None, 14, 14, 128)       0         \n",
      "_________________________________________________________________\n",
      "conv_dw_11 (DepthwiseConv2D) (None, 14, 14, 128)       1152      \n",
      "_________________________________________________________________\n",
      "conv_dw_11_bn (BatchNormaliz (None, 14, 14, 128)       512       \n",
      "_________________________________________________________________\n",
      "conv_dw_11_relu (ReLU)       (None, 14, 14, 128)       0         \n",
      "_________________________________________________________________\n",
      "conv_pw_11 (Conv2D)          (None, 14, 14, 128)       16384     \n",
      "_________________________________________________________________\n",
      "conv_pw_11_bn (BatchNormaliz (None, 14, 14, 128)       512       \n",
      "_________________________________________________________________\n",
      "conv_pw_11_relu (ReLU)       (None, 14, 14, 128)       0         \n",
      "_________________________________________________________________\n",
      "conv_pad_12 (ZeroPadding2D)  (None, 15, 15, 128)       0         \n",
      "_________________________________________________________________\n",
      "conv_dw_12 (DepthwiseConv2D) (None, 7, 7, 128)         1152      \n",
      "_________________________________________________________________\n",
      "conv_dw_12_bn (BatchNormaliz (None, 7, 7, 128)         512       \n",
      "_________________________________________________________________\n",
      "conv_dw_12_relu (ReLU)       (None, 7, 7, 128)         0         \n",
      "_________________________________________________________________\n",
      "conv_pw_12 (Conv2D)          (None, 7, 7, 256)         32768     \n",
      "_________________________________________________________________\n",
      "conv_pw_12_bn (BatchNormaliz (None, 7, 7, 256)         1024      \n",
      "_________________________________________________________________\n",
      "conv_pw_12_relu (ReLU)       (None, 7, 7, 256)         0         \n",
      "_________________________________________________________________\n",
      "conv_dw_13 (DepthwiseConv2D) (None, 7, 7, 256)         2304      \n",
      "_________________________________________________________________\n",
      "conv_dw_13_bn (BatchNormaliz (None, 7, 7, 256)         1024      \n",
      "_________________________________________________________________\n",
      "conv_dw_13_relu (ReLU)       (None, 7, 7, 256)         0         \n",
      "_________________________________________________________________\n",
      "conv_pw_13 (Conv2D)          (None, 7, 7, 256)         65536     \n",
      "_________________________________________________________________\n",
      "conv_pw_13_bn (BatchNormaliz (None, 7, 7, 256)         1024      \n",
      "_________________________________________________________________\n",
      "conv_pw_13_relu (ReLU)       (None, 7, 7, 256)         0         \n",
      "_________________________________________________________________\n",
      "global_average_pooling2d_1 ( (None, 256)               0         \n",
      "_________________________________________________________________\n",
      "reshape_1 (Reshape)          (None, 1, 1, 256)         0         \n",
      "_________________________________________________________________\n",
      "dropout (Dropout)            (None, 1, 1, 256)         0         \n",
      "_________________________________________________________________\n",
      "conv_preds (Conv2D)          (None, 1, 1, 1000)        257000    \n",
      "_________________________________________________________________\n",
      "reshape_2 (Reshape)          (None, 1000)              0         \n",
      "_________________________________________________________________\n",
      "act_softmax (Activation)     (None, 1000)              0         \n",
      "=================================================================\n",
      "Total params: 475,544\n",
      "Trainable params: 470,072\n",
      "Non-trainable params: 5,472\n",
      "_________________________________________________________________\n"
     ]
    }
   ],
   "source": [
    "model =  MobileNet (input_shape=None, alpha=0.25,\n",
    "                   depth_multiplier = 1,\n",
    "                   dropout = 1e-3,\n",
    "                   include_top = True,\n",
    "                   weights = 'imagenet',\n",
    "                   input_tensor = None,\n",
    "                   pooling = None,\n",
    "                   classes = 1000)\n",
    "model.summary()"
   ]
  },
  {
   "cell_type": "markdown",
   "metadata": {},
   "source": [
    "### Image Classification"
   ]
  },
  {
   "cell_type": "code",
   "execution_count": 12,
   "metadata": {},
   "outputs": [
    {
     "name": "stdout",
     "output_type": "stream",
     "text": [
      "Predicted:\n",
      " [[('n03325584', 'feather_boa', 0.24640879), ('n02098286', 'West_Highland_white_terrier', 0.054859564), ('n02317335', 'starfish', 0.04160241), ('n03884397', 'panpipe', 0.03843622), ('n03388043', 'fountain', 0.035281435)]]\n"
     ]
    }
   ],
   "source": [
    "img_path = ('f:work/Cat.jpg')\n",
    "img = image.load_img(img_path, target_size=(224, 224))\n",
    "x = image.img_to_array(img)\n",
    "x = np.expand_dims(x, axis=0)\n",
    "x = preprocess_input(x)\n",
    "\n",
    "prediction = model.predict(x)\n",
    "print('Predicted:\\n', decode_predictions(prediction))"
   ]
  },
  {
   "cell_type": "markdown",
   "metadata": {},
   "source": [
    "### Extract CNN Features"
   ]
  },
  {
   "cell_type": "code",
   "execution_count": 14,
   "metadata": {},
   "outputs": [
    {
     "name": "stdout",
     "output_type": "stream",
     "text": [
      "feature shape: (1, 1000)\n",
      "features: [[1.66889413e-06 7.13698915e-04 1.65777616e-04 1.10444649e-04\n",
      "  1.78130605e-04 4.26028483e-03 3.12957534e-04 1.41130702e-04\n",
      "  6.23057858e-05 1.60200301e-07 9.00868599e-07 2.61546138e-05\n",
      "  8.94298751e-07 1.74004617e-05 5.53145364e-05 3.42093085e-06\n",
      "  2.29534344e-05 1.24992017e-04 2.50076164e-06 7.43013970e-06\n",
      "  1.03184959e-06 1.27220934e-04 7.50790059e-06 6.57102501e-05\n",
      "  2.86812769e-06 1.59370052e-06 5.43642345e-05 5.69003605e-05\n",
      "  3.04487567e-05 3.72156827e-03 6.52510778e-07 4.07434391e-06\n",
      "  2.95479776e-06 2.60660295e-06 2.85960618e-06 1.32702780e-06\n",
      "  5.19302284e-06 2.66798281e-07 3.75395961e-04 9.01980547e-06\n",
      "  9.18594105e-06 7.87480258e-06 1.11574491e-05 4.63040233e-05\n",
      "  1.34448292e-05 7.70637143e-06 4.13209127e-05 1.56748953e-04\n",
      "  1.50156353e-07 1.80128027e-05 6.31858275e-05 3.84683401e-04\n",
      "  1.07686519e-05 4.20529941e-05 2.18739333e-05 2.58907858e-05\n",
      "  4.34412286e-05 5.82936707e-07 2.88290175e-05 8.68786447e-06\n",
      "  9.98510041e-06 1.99286660e-06 6.61913691e-06 4.11967903e-06\n",
      "  4.94676315e-05 8.18204444e-06 1.08436201e-04 3.19992046e-06\n",
      "  1.51963022e-05 4.55963175e-07 1.20070285e-06 3.42105477e-06\n",
      "  4.29522197e-06 2.68540516e-05 2.85611368e-05 4.45492560e-07\n",
      "  1.50207352e-05 3.16138266e-06 3.84000559e-05 1.69067007e-05\n",
      "  1.82684780e-05 5.04873278e-05 9.19909962e-06 1.62639153e-05\n",
      "  3.03275442e-06 1.42944464e-05 5.46307228e-06 2.26383963e-06\n",
      "  3.21289508e-06 4.28475701e-04 1.72069838e-06 2.40450026e-06\n",
      "  4.46219218e-07 2.25695317e-07 4.45916812e-04 1.35596053e-06\n",
      "  4.53919256e-07 1.13232841e-06 5.29128897e-07 6.32938691e-06\n",
      "  1.30359172e-06 3.97373611e-07 2.23189957e-07 8.75962840e-08\n",
      "  1.33252861e-05 5.42198791e-07 3.71436295e-06 1.97501294e-03\n",
      "  3.31863150e-04 1.85562367e-05 4.22551669e-03 5.92083306e-05\n",
      "  1.60203688e-02 7.55972796e-05 2.15063730e-04 1.12472707e-02\n",
      "  7.98927613e-06 6.46618428e-05 5.58126317e-07 2.74177467e-07\n",
      "  2.90673171e-07 5.97460803e-06 1.18445519e-06 2.04823309e-07\n",
      "  1.31906620e-06 1.10681940e-05 3.89878078e-05 1.04637957e-05\n",
      "  1.00669615e-06 3.41089093e-04 2.75598359e-05 6.39988048e-06\n",
      "  8.02990180e-05 1.70527380e-06 3.83507768e-06 3.11323238e-05\n",
      "  9.49896184e-06 1.39489873e-06 1.50961228e-06 1.24264386e-06\n",
      "  7.28601708e-06 1.45961449e-05 5.05369644e-06 7.73196007e-06\n",
      "  3.27977432e-06 1.18010303e-06 7.55746123e-06 2.40890949e-06\n",
      "  1.71449938e-05 1.63805526e-05 6.22070183e-06 3.54600139e-03\n",
      "  9.77699063e-04 3.96946399e-03 2.05594784e-04 7.72034473e-05\n",
      "  2.41241905e-05 2.11248659e-02 5.85954869e-04 3.07261507e-06\n",
      "  4.19995304e-05 7.37495782e-07 5.71298699e-07 8.32928094e-07\n",
      "  1.79325340e-07 1.92527864e-07 2.35284119e-07 1.44569867e-07\n",
      "  1.04773608e-06 2.23541447e-05 1.85783426e-06 1.25755259e-05\n",
      "  1.66607140e-06 5.38222630e-05 1.81695708e-04 4.26811721e-06\n",
      "  2.07505968e-06 2.51839936e-07 2.95892892e-06 1.31584920e-05\n",
      "  5.83020392e-06 1.71112315e-05 3.08874132e-06 8.29893761e-05\n",
      "  3.09993920e-05 1.06881162e-04 1.60453527e-03 1.41253101e-03\n",
      "  2.34791689e-04 7.32022527e-05 2.93968915e-04 6.35966046e-07\n",
      "  5.92169992e-04 1.97932502e-04 7.90608829e-05 1.14216331e-04\n",
      "  4.74517983e-05 7.03535852e-06 3.87189830e-05 2.83575687e-03\n",
      "  1.30047018e-04 1.70254556e-04 1.88685590e-05 5.48595637e-02\n",
      "  2.07967300e-04 1.73349633e-06 6.91947832e-08 3.77149408e-05\n",
      "  5.82824714e-06 1.49517319e-07 1.07933779e-07 1.12447162e-06\n",
      "  2.30641817e-05 1.84413079e-06 2.13365456e-06 8.97617883e-06\n",
      "  3.21081388e-05 4.66995334e-06 4.69387669e-06 5.63747562e-05\n",
      "  3.61730531e-06 3.54767849e-06 7.74544023e-05 8.69471522e-04\n",
      "  3.50654591e-04 3.80226011e-05 1.16868869e-04 5.44748837e-05\n",
      "  2.16837234e-05 6.50606380e-05 6.27034315e-05 1.90834879e-04\n",
      "  5.96249825e-04 3.70797643e-05 1.06887114e-07 7.49549945e-05\n",
      "  9.80796585e-07 2.54302868e-05 4.81947382e-07 1.82437634e-06\n",
      "  1.05184586e-06 4.58230403e-07 5.69769509e-06 7.64617710e-07\n",
      "  1.93629626e-06 1.06055471e-04 1.02433296e-05 2.08551091e-06\n",
      "  2.56686332e-03 4.13892412e-04 6.39847072e-04 2.22315593e-05\n",
      "  3.21224710e-04 3.65102242e-05 1.29503378e-05 8.66483276e-07\n",
      "  4.19570324e-06 8.80731677e-05 2.26692725e-02 5.96877374e-03\n",
      "  2.91880307e-04 7.87410187e-04 1.71268857e-05 1.12961483e-04\n",
      "  3.87511973e-05 4.21080360e-04 1.48042920e-04 1.29888620e-04\n",
      "  1.79698138e-04 1.46265855e-04 7.37613346e-03 2.05127290e-05\n",
      "  7.26263170e-06 5.94908197e-05 2.70301316e-05 9.03109030e-05\n",
      "  5.12923407e-06 2.43395101e-04 2.00936411e-04 6.32544653e-03\n",
      "  1.06000618e-04 3.39650942e-05 3.99429155e-05 5.66065265e-03\n",
      "  3.32396245e-03 4.40869917e-04 4.75186389e-05 1.13995258e-04\n",
      "  3.77998113e-05 1.64871417e-05 3.78115465e-06 1.62328251e-06\n",
      "  1.22161282e-05 1.80524075e-05 1.65932124e-06 2.65449489e-06\n",
      "  2.23358409e-04 1.43211275e-06 1.90628941e-06 6.74282956e-06\n",
      "  7.85283737e-06 3.00928987e-05 1.09775465e-05 2.84798240e-04\n",
      "  4.30660220e-05 1.43013310e-07 1.27421416e-04 3.06744587e-05\n",
      "  9.12417017e-05 2.19623512e-03 9.68247943e-04 7.29574167e-05\n",
      "  4.25454964e-05 1.70025360e-05 8.05589207e-06 5.50566756e-06\n",
      "  3.33259720e-07 2.50751182e-05 1.60677537e-05 3.05335489e-05\n",
      "  1.24079716e-05 3.53097403e-06 2.56865078e-05 2.25277727e-05\n",
      "  4.92599720e-05 1.68408777e-04 6.76600976e-05 4.16024104e-02\n",
      "  2.21504833e-05 1.53844681e-04 1.07121732e-05 5.22572482e-05\n",
      "  8.10051896e-03 7.01698568e-03 6.19116872e-06 1.05081219e-03\n",
      "  2.04779644e-06 3.82165263e-06 1.55384507e-04 2.69332504e-05\n",
      "  7.83839732e-06 3.02257366e-04 1.51105196e-05 5.04798891e-06\n",
      "  1.57179838e-05 1.53580077e-05 1.39919541e-06 9.95723326e-07\n",
      "  2.12630744e-06 4.41509883e-06 3.67552093e-06 1.01772184e-06\n",
      "  1.68870008e-06 2.33850574e-06 7.97225039e-06 3.75421514e-05\n",
      "  1.68790008e-04 1.77965121e-05 4.69793194e-05 6.08555092e-05\n",
      "  9.33784008e-07 1.86512079e-05 2.01273551e-07 7.18066212e-06\n",
      "  3.18120124e-06 6.94631890e-05 9.87030398e-06 1.85073418e-06\n",
      "  5.85642047e-05 5.83579413e-06 1.50533306e-05 1.11847658e-05\n",
      "  3.20951585e-05 2.33039627e-05 4.24821279e-04 8.51926507e-06\n",
      "  2.47880671e-05 1.49119689e-04 5.62470523e-05 7.16195063e-06\n",
      "  1.12839443e-04 3.72347968e-05 1.45963122e-05 9.78636017e-05\n",
      "  6.17117112e-05 1.48026538e-06 2.18474952e-07 2.78195580e-06\n",
      "  9.10809467e-06 6.20963874e-07 3.36792323e-06 1.65593519e-06\n",
      "  7.95301166e-05 5.55108600e-05 1.00837806e-05 2.34552772e-06\n",
      "  3.88621675e-06 1.23548481e-04 1.32676098e-03 8.16623142e-05\n",
      "  2.01613802e-05 3.64112966e-05 1.36914183e-04 7.55324527e-06\n",
      "  3.84824634e-05 4.97282053e-05 1.25024992e-04 1.81547614e-06\n",
      "  1.44449484e-06 3.55291006e-04 1.37683969e-06 1.86136528e-03\n",
      "  2.20586771e-05 7.72537078e-06 2.47952303e-05 4.66083002e-05\n",
      "  4.02251433e-04 1.96045352e-04 2.58928849e-05 7.89751299e-04\n",
      "  4.65057610e-06 9.90071749e-06 1.32451632e-05 5.03561921e-07\n",
      "  4.35869704e-04 3.05561261e-04 5.05615790e-05 5.19334717e-05\n",
      "  8.34236198e-06 1.07694545e-03 6.89773606e-06 1.29999898e-04\n",
      "  2.97282236e-06 1.43978512e-03 1.59756583e-03 8.17626831e-04\n",
      "  1.74746706e-08 3.96669748e-05 2.07977992e-05 3.29560670e-03\n",
      "  8.07424385e-06 5.00779242e-06 1.90098770e-04 2.41230652e-02\n",
      "  7.63085779e-07 6.58843247e-03 9.72345806e-05 4.14330170e-05\n",
      "  1.90191509e-04 1.21106268e-05 7.13285181e-06 8.28349439e-05\n",
      "  2.53018597e-03 8.62740535e-07 4.02263549e-06 3.11344775e-04\n",
      "  4.60908268e-05 9.96582769e-03 1.77672264e-05 2.29886193e-02\n",
      "  2.21557857e-05 4.21958929e-03 5.06000477e-04 2.72860867e-04\n",
      "  4.12065165e-05 8.07641598e-04 7.79204129e-07 1.05126026e-06\n",
      "  4.36612936e-06 1.33280309e-05 2.85430998e-02 1.92188127e-05\n",
      "  1.03076236e-05 2.70709679e-05 1.36225147e-03 4.61587433e-07\n",
      "  2.04319385e-05 3.93295250e-06 2.01410672e-04 4.62695908e-07\n",
      "  4.18992349e-05 7.31551063e-06 6.26145720e-07 1.06678577e-03\n",
      "  1.54927784e-06 6.45820000e-06 1.33956069e-04 9.62538033e-05\n",
      "  3.41965258e-03 5.74147981e-03 1.32929534e-02 2.70154010e-06\n",
      "  1.91326799e-05 4.39937867e-06 1.37421681e-04 3.31178484e-07\n",
      "  3.64279188e-03 1.59629795e-03 3.13475612e-04 7.36995935e-05\n",
      "  1.22499068e-06 8.38275664e-05 1.02248602e-03 3.62853971e-05\n",
      "  6.42744490e-05 4.66525962e-05 2.05827368e-04 4.79852351e-05\n",
      "  4.82475734e-05 7.47559261e-06 6.44626289e-06 4.48471127e-08\n",
      "  3.08059010e-04 7.05341654e-06 1.10761714e-04 2.68767914e-03\n",
      "  5.85907663e-04 3.82973030e-06 6.89790750e-06 3.30347975e-05\n",
      "  8.41770452e-05 3.60283525e-06 3.09520783e-06 1.16476986e-05\n",
      "  3.34962062e-03 5.24847906e-07 9.87042199e-07 1.07633950e-05\n",
      "  2.33023857e-05 1.75132707e-03 7.66151003e-04 4.00411591e-05\n",
      "  9.37025789e-07 2.76664214e-04 1.02495825e-07 1.04191611e-06\n",
      "  5.04098637e-07 1.77329130e-05 3.14232457e-05 2.04191019e-04\n",
      "  1.03875709e-06 2.94459369e-05 2.52421247e-04 3.31131450e-05\n",
      "  2.78521156e-07 3.19400096e-05 2.38739559e-03 2.81463031e-08\n",
      "  3.21727157e-07 4.87165933e-04 8.03870535e-07 1.94733984e-05\n",
      "  2.46408790e-01 9.67288543e-07 1.91975450e-05 5.44740487e-07\n",
      "  5.63871523e-04 1.14304865e-04 2.52641737e-04 6.95375229e-06\n",
      "  2.34606910e-06 4.63606895e-08 3.52814347e-02 7.22156528e-06\n",
      "  1.62623182e-05 2.80976292e-06 1.95784779e-07 6.96723760e-07\n",
      "  3.13849683e-04 2.90403591e-07 2.10411727e-05 1.03347645e-06\n",
      "  2.60944478e-04 1.82368481e-07 6.30741488e-05 1.08843672e-08\n",
      "  9.52886239e-07 2.04038406e-05 1.05032744e-02 4.93016341e-06\n",
      "  1.30530043e-05 1.41672058e-06 7.12145993e-06 5.59245734e-07\n",
      "  1.64148479e-03 5.50341327e-04 2.68702138e-07 1.41159908e-05\n",
      "  2.05540308e-03 4.41216049e-04 7.64602446e-05 4.85416176e-03\n",
      "  4.41819196e-07 4.36008384e-04 1.45511643e-04 1.08174459e-06\n",
      "  6.61266677e-05 1.29416467e-05 3.20487402e-06 7.83018244e-04\n",
      "  2.99645297e-04 1.02375878e-03 1.29640859e-04 1.56169710e-06\n",
      "  8.48324780e-05 1.41421988e-05 9.35151242e-03 1.22143043e-04\n",
      "  3.60385573e-04 3.80712180e-07 6.31348667e-05 7.66488351e-03\n",
      "  2.74556577e-09 2.83251738e-05 1.11980375e-03 1.18192424e-04\n",
      "  4.53096256e-03 1.33311833e-05 1.90951105e-05 2.07295245e-03\n",
      "  1.22681395e-05 7.44390945e-07 3.69760855e-05 7.69770049e-05\n",
      "  1.21254141e-06 2.87459011e-06 7.88910780e-04 2.05148211e-07\n",
      "  1.09970688e-05 7.57530215e-04 9.44536714e-06 4.87444078e-04\n",
      "  4.05184301e-06 5.74512997e-05 8.52777987e-07 2.11589686e-05\n",
      "  5.56078274e-04 3.69980262e-05 9.50248726e-03 2.58285180e-03\n",
      "  1.97865779e-06 7.30462896e-04 2.76123872e-04 8.82291584e-04\n",
      "  5.22497995e-03 2.32582479e-05 8.40681387e-05 1.19373080e-05\n",
      "  1.73938079e-05 7.76668344e-07 3.26167530e-04 3.83037133e-07\n",
      "  4.07706320e-05 4.69310471e-05 1.16487755e-07 1.11617766e-04\n",
      "  1.77719201e-07 8.54155631e-04 2.48941081e-03 3.77855758e-05\n",
      "  1.29966054e-06 2.91264501e-09 1.59028386e-05 3.12091070e-05\n",
      "  2.90403059e-05 4.99951375e-06 2.16950066e-04 2.13276580e-04\n",
      "  1.48889900e-04 1.64800833e-04 2.36987526e-05 1.45917893e-05\n",
      "  2.16771056e-07 3.28199094e-05 1.39695563e-04 3.86239591e-08\n",
      "  7.39352836e-05 7.53233835e-05 9.27817091e-05 3.38398595e-03\n",
      "  4.14413586e-03 4.64037748e-06 2.58781474e-05 6.20693245e-05\n",
      "  2.29005353e-03 1.49035941e-06 4.98228837e-06 9.97419374e-06\n",
      "  7.99612142e-04 1.65500224e-03 1.45207059e-06 1.57211092e-04\n",
      "  5.01357543e-04 8.30663412e-05 1.84529796e-07 4.63038014e-05\n",
      "  1.05071704e-04 1.99373867e-02 3.13719356e-04 3.84362191e-02\n",
      "  2.15650609e-04 8.58712374e-05 5.24836942e-05 1.72966102e-05\n",
      "  3.51452218e-06 2.28033883e-07 1.71827151e-06 2.04792946e-06\n",
      "  8.26503747e-05 1.76190370e-04 2.43881994e-04 7.33095279e-04\n",
      "  1.41159646e-04 1.87567605e-06 2.56456078e-05 1.48350606e-03\n",
      "  1.10631613e-02 3.04666337e-08 8.50702236e-06 7.21139740e-03\n",
      "  1.94959677e-04 1.19082851e-03 5.35148149e-03 2.29196972e-03\n",
      "  5.18651905e-06 2.62194488e-04 9.41794553e-07 1.01293326e-05\n",
      "  5.51038480e-04 1.92136285e-05 2.58725549e-06 2.05343182e-04\n",
      "  3.08156223e-06 6.47652123e-05 3.39491102e-08 6.17926847e-03\n",
      "  1.18966318e-05 2.04461103e-05 1.71045067e-05 1.95881830e-06\n",
      "  4.98794361e-05 4.37128125e-04 5.70382736e-06 5.22402079e-05\n",
      "  5.62699104e-04 9.71877216e-06 8.32515127e-07 3.51077870e-05\n",
      "  8.73727433e-04 6.39463367e-04 1.43956055e-03 1.18359924e-06\n",
      "  1.55998441e-05 2.87439412e-04 1.82096337e-05 2.44791936e-05\n",
      "  1.25197030e-05 1.13819922e-07 1.86109355e-06 2.05859433e-05\n",
      "  9.88099418e-06 1.70258121e-04 2.68478034e-05 4.97380206e-05\n",
      "  1.35772361e-05 3.72001559e-05 3.58736202e-06 1.45008977e-04\n",
      "  4.77304502e-06 7.77115580e-04 1.08919012e-05 6.02535056e-06\n",
      "  1.71006017e-04 4.38617659e-04 1.04862687e-04 2.61356030e-03\n",
      "  1.26538307e-05 1.25872602e-05 2.89436604e-04 1.35368438e-07\n",
      "  1.14109134e-05 1.32283358e-05 1.84272620e-04 3.00718966e-04\n",
      "  1.93402549e-04 5.15204511e-06 5.15103566e-05 8.03875955e-05\n",
      "  2.85152782e-04 7.00771670e-06 4.97401343e-04 7.64297329e-06\n",
      "  1.47244782e-05 1.81519135e-05 5.26365591e-03 1.54417630e-05\n",
      "  1.83386932e-04 3.44702712e-05 1.12487282e-06 8.89196144e-07\n",
      "  4.18163017e-06 1.42043764e-05 6.54249607e-06 1.22468361e-06\n",
      "  6.26485635e-05 2.85617625e-05 2.93985300e-04 9.52722166e-06\n",
      "  9.40557453e-04 2.72548132e-05 1.05279078e-05 1.76091671e-05\n",
      "  1.84054923e-04 1.70423264e-05 1.01806600e-05 2.06796569e-04\n",
      "  7.82365751e-05 1.08143460e-07 6.24147360e-04 2.55702087e-03\n",
      "  3.45463559e-05 1.13019985e-06 1.13629540e-06 5.78675572e-05\n",
      "  6.27851160e-03 5.43324359e-06 6.77251373e-04 1.64300709e-05\n",
      "  2.40549038e-04 1.02368055e-07 1.85422857e-06 2.43966788e-04\n",
      "  2.36310807e-04 1.25175836e-06 5.79342595e-05 1.20361772e-04\n",
      "  1.97399699e-04 3.19376966e-04 9.63322673e-05 2.89354625e-06\n",
      "  2.64225324e-04 6.60860096e-04 9.06578032e-04 1.79397277e-04\n",
      "  3.27183632e-04 5.13884297e-05 4.94587410e-04 3.19918513e-06\n",
      "  1.46648415e-06 2.13640145e-04 4.80868242e-04 1.67044520e-04\n",
      "  2.04747252e-04 8.30901001e-07 2.21528299e-03 6.46248285e-04\n",
      "  2.55895628e-07 7.02920253e-04 1.37829222e-03 1.15253015e-05\n",
      "  2.67889391e-06 7.02403922e-05 5.38745662e-04 1.12390353e-06\n",
      "  1.02297344e-08 7.76405432e-05 2.79129677e-06 1.99065852e-07\n",
      "  7.72002095e-04 1.16611202e-03 1.27883231e-05 1.11407292e-06\n",
      "  1.12265392e-04 5.43259057e-06 8.10959921e-09 4.82862390e-07\n",
      "  1.25102338e-03 1.60336413e-06 5.76942830e-06 2.36767606e-04\n",
      "  2.56182066e-05 9.07768765e-07 3.26122099e-05 1.60090975e-03\n",
      "  4.69183833e-05 9.05663706e-04 9.62606350e-07 5.62694504e-06\n",
      "  1.23053132e-06 5.48680073e-05 1.60555155e-05 2.55022110e-06\n",
      "  4.47337952e-04 1.08698870e-04 1.24425369e-05 1.28819811e-04\n",
      "  1.27884996e-04 3.00229681e-06 2.24358271e-04 5.50023360e-05\n",
      "  1.26808909e-05 3.96051764e-05 4.15435090e-04 2.57966761e-03\n",
      "  1.73647387e-03 1.66489067e-03 7.34190224e-04 5.21328548e-05\n",
      "  1.48277968e-05 1.40271061e-06 5.62553141e-05 1.63135189e-03\n",
      "  5.20416070e-04 1.22770996e-06 5.51192727e-07 3.76138792e-06\n",
      "  1.42245204e-04 1.98342663e-04 1.57315717e-05 1.68062124e-05\n",
      "  4.05896899e-05 2.64320476e-03 6.36532859e-05 1.19708584e-05\n",
      "  4.12523423e-06 8.04997126e-06 2.54301654e-07 2.54202714e-05\n",
      "  2.20864858e-05 1.63929700e-03 8.23825346e-08 6.56716293e-06\n",
      "  3.68844812e-05 1.58569492e-07 3.43025476e-06 1.16506317e-05\n",
      "  1.43905737e-07 1.43769066e-04 1.51952299e-05 1.66364462e-05\n",
      "  2.07605331e-06 6.10058919e-07 7.24610727e-05 3.91555426e-04\n",
      "  1.60410218e-05 2.36952728e-05 2.65292983e-05 3.27117014e-04\n",
      "  6.12302392e-05 3.75692686e-03 1.20496494e-04 3.02539556e-05\n",
      "  1.53542424e-05 2.06141176e-05 1.03520148e-03 1.36881999e-05\n",
      "  3.58755533e-05 1.99621078e-04 1.66144546e-05 3.10747197e-07\n",
      "  2.64917639e-06 2.58251271e-06 2.45666706e-06 1.40927071e-07\n",
      "  1.35491871e-06 2.28943634e-07 6.36053710e-06 1.44168177e-06\n",
      "  3.64061736e-04 7.33967245e-05 1.40738639e-05 2.63729366e-04\n",
      "  2.14592319e-06 6.98840595e-05 6.57476811e-03 5.18864908e-05\n",
      "  7.64074628e-07 6.58903591e-05 1.30823973e-04 1.03720095e-06\n",
      "  2.77241995e-03 1.27955995e-04 4.90329170e-04 4.69055449e-05\n",
      "  7.41469814e-03 1.81500189e-04 1.19716124e-05 6.25877175e-03\n",
      "  1.38948108e-05 4.45783953e-04 1.16037379e-04 4.08809719e-05\n",
      "  6.73640607e-05 5.38900349e-06 9.21663650e-06 4.59311996e-05\n",
      "  2.70482833e-05 6.05417029e-07 4.98960447e-03 1.02295649e-04]]\n"
     ]
    }
   ],
   "source": [
    "features = model.predict(x)\n",
    "print(\"feature shape:\", features.shape)\n",
    "print(\"features:\", features)\n"
   ]
  },
  {
   "cell_type": "markdown",
   "metadata": {},
   "source": [
    "###  Extract features from an arbitrary intermediate layer"
   ]
  },
  {
   "cell_type": "code",
   "execution_count": 15,
   "metadata": {},
   "outputs": [
    {
     "name": "stdout",
     "output_type": "stream",
     "text": [
      "Features of conv_dw_2_relu: (1, 56, 56, 16)\n"
     ]
    }
   ],
   "source": [
    "model_minimal = Model(input=model.input, output=model.get_layer('conv_dw_2_relu').output)\n",
    "\n",
    "conv_dw_2_relu_features = model_minimal.predict(x)\n",
    "print('Features of conv_dw_2_relu:',conv_dw_2_relu_features.shape)"
   ]
  },
  {
   "cell_type": "markdown",
   "metadata": {},
   "source": [
    "You can extract these features and use the base network as a feature extractor for your problems. \n"
   ]
  },
  {
   "cell_type": "code",
   "execution_count": null,
   "metadata": {},
   "outputs": [],
   "source": []
  }
 ],
 "metadata": {
  "kernelspec": {
   "display_name": "Python 3",
   "language": "python",
   "name": "python3"
  },
  "language_info": {
   "codemirror_mode": {
    "name": "ipython",
    "version": 3
   },
   "file_extension": ".py",
   "mimetype": "text/x-python",
   "name": "python",
   "nbconvert_exporter": "python",
   "pygments_lexer": "ipython3",
   "version": "3.7.7"
  }
 },
 "nbformat": 4,
 "nbformat_minor": 4
}
